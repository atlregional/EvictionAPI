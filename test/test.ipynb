{
 "cells": [
  {
   "cell_type": "code",
   "execution_count": 7,
   "metadata": {},
   "outputs": [],
   "source": [
    "import pandas as pd    \n",
    "import numpy as np \n",
    "import csv\n",
    "import datetime"
   ]
  },
  {
   "cell_type": "code",
   "execution_count": 17,
   "metadata": {},
   "outputs": [],
   "source": [
    "rawData = pd.read_csv(r'../data/rawData/' + '2020CobbCountyEvictionCaseEvents-SCRAPE-09-18-2020' + '.csv')\n",
    "\n",
    "#create dict  {caseid:[{date: , name: }]}\n",
    "answerDict = {}\n",
    "\n",
    "for index, row in rawData.iterrows():\n",
    "    \n",
    "    if row['Case.ID'] not in answerDict:\n",
    "        answerDict[row['Case.ID']] = []\n",
    "        \n",
    "    if row['Event.Name'].lower().find('answer') != -1:\n",
    "        answerDict[row['Case.ID']].append({'date': row['Event.Date'],'name':row['Event.Name']})\n",
    "\n",
    "validAnswerDict = {key:answerDict[key] for key in answerDict if len(answerDict[key]) > 0}\n",
    "# sort each valid answer case by date\n",
    "for key in validAnswerDict:\n",
    "    validAnswerDict[key].sort(key=lambda x: datetime.datetime.strptime(x['date'],'%m/%d/%y'),reverse = True)\n",
    "# print(validAnswerDict)\n",
    "\n",
    "\n",
    "rawDataIDAddressOnly = rawData.drop(['Event.Number','Event.Date','Event.Name'], axis=1)\n",
    "rawDataIDAddressOnly.head()\n",
    "rawDataIDAddressOnlyUnique = rawDataIDAddressOnly.drop_duplicates().reset_index(drop=True)\n",
    "\n",
    "rawDataIDAddressOnlyUnique['answerDate'] = 'N/A'\n",
    "rawDataIDAddressOnlyUnique['ifAnswered'] = 0\n",
    "rawDataIDAddressOnlyUnique['answerEventName'] = 'N/A'\n",
    "\n",
    "for index, row in rawDataIDAddressOnlyUnique.iterrows():\n",
    "    \n",
    "    if row['Case.ID'] in validAnswerDict:\n",
    "        rawDataIDAddressOnlyUnique.at[index,'answerDate'] = validAnswerDict[row['Case.ID']][0]['date']\n",
    "        rawDataIDAddressOnlyUnique.at[index,'ifAnswered'] = 1\n",
    "        rawDataIDAddressOnlyUnique.at[index,'answerEventName'] = validAnswerDict[row['Case.ID']][0]['name']\n",
    "\n",
    "# rawDataIDAddressOnlyUnique.head(20)\n",
    "rawDataIDAddressOnlyUnique.to_csv('../data/test/'+ '2020CobbCountyEvictionCaseEvents-SCRAPE-09-18-2020' + '.csv')"
   ]
  },
  {
   "cell_type": "code",
   "execution_count": null,
   "metadata": {},
   "outputs": [],
   "source": []
  }
 ],
 "metadata": {
  "kernelspec": {
   "display_name": "Python 3",
   "language": "python",
   "name": "python3"
  },
  "language_info": {
   "codemirror_mode": {
    "name": "ipython",
    "version": 3
   },
   "file_extension": ".py",
   "mimetype": "text/x-python",
   "name": "python",
   "nbconvert_exporter": "python",
   "pygments_lexer": "ipython3",
   "version": "3.6.4"
  }
 },
 "nbformat": 4,
 "nbformat_minor": 2
}
